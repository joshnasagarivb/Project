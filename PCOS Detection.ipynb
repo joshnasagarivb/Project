{
  "nbformat": 4,
  "nbformat_minor": 0,
  "metadata": {
    "colab": {
      "name": "PCOS Prediction.ipynb",
      "provenance": [],
      "collapsed_sections": [],
      "authorship_tag": "ABX9TyNZfn/BtAjqFuDF7tidlphb"
    },
    "kernelspec": {
      "name": "python3",
      "display_name": "Python 3"
    },
    "language_info": {
      "name": "python"
    }
  },
  "cells": [
    {
      "cell_type": "code",
      "metadata": {
        "id": "EIN9x9DwOm7r"
      },
      "source": [
        "import numpy as np  #create arrays\n",
        "import pandas as pd\n",
        "\n",
        "\n",
        "\n"
      ],
      "execution_count": null,
      "outputs": []
    },
    {
      "cell_type": "code",
      "metadata": {
        "id": "oqGEncAIVVTI"
      },
      "source": [
        "pip install pandas\n"
      ],
      "execution_count": null,
      "outputs": []
    },
    {
      "cell_type": "code",
      "metadata": {
        "id": "R5E84heKWNUa"
      },
      "source": [
        "df = pd.read_csv('/content/sample_data/pcos.csv')"
      ],
      "execution_count": null,
      "outputs": []
    },
    {
      "cell_type": "code",
      "metadata": {
        "id": "_TSxoPGWXM6D"
      },
      "source": [
        "df.info()\n"
      ],
      "execution_count": null,
      "outputs": []
    },
    {
      "cell_type": "code",
      "metadata": {
        "id": "9TMbd8TFXlPE"
      },
      "source": [
        "#Converting to float\n",
        "df[[' Age (yrs)','Blood Group','Cycle length(days)','PCOS (Y/N)','Cycle(months)','Bloated','facial hair','chest hair','difficult to loose weight','mood swings','anxiety/depression/stress','Irregular_sleep','Fast food (Y/N)','Pregnant(Y/N)','No of aborptions','Hip(inch)','Waist(inch)','Weight gain(Y/N)','hair growth(Y/N)','Skin darkening (Y/N)','Hair loss(Y/N)','Pimples(Y/N)','Reg Exercise(Y/N)']] = df[[' Age (yrs)','Blood Group','Cycle length(days)','PCOS (Y/N)','Cycle(months)','Bloated','facial hair','chest hair','difficult to loose weight','mood swings','anxiety/depression/stress','Irregular_sleep','Fast food (Y/N)','Pregnant(Y/N)','No of aborptions','Hip(inch)','Waist(inch)','Weight gain(Y/N)','hair growth(Y/N)','Skin darkening (Y/N)','Hair loss(Y/N)','Pimples(Y/N)','Reg Exercise(Y/N)']].astype(float)\n"
      ],
      "execution_count": null,
      "outputs": []
    },
    {
      "cell_type": "code",
      "metadata": {
        "id": "OcAeXIPiZM8Q"
      },
      "source": [
        "df.info()"
      ],
      "execution_count": null,
      "outputs": []
    },
    {
      "cell_type": "code",
      "metadata": {
        "id": "sIud-WW6ZWQh"
      },
      "source": [
        "from sklearn.model_selection import train_test_split\n",
        "\n",
        "train = df.drop(['Sl No','Patient File No','PCOS (Y/N)'], axis=1)\n",
        "train= np.asarray(train, dtype='float64')\n",
        "test = df['PCOS (Y/N)']\n",
        "test= np.asarray(test, dtype='float64')\n",
        "\n",
        "X_train, X_test, y_train, y_test = train_test_split(train,test, test_size=0.2, random_state=2)\n",
        "\n",
        "#understanding purpose\n",
        "print(X_train.shape, X_test.shape, y_train.shape, y_test.shape)\n",
        "print(X_train[:5, :])\n",
        "#split again, and we should see the same split\n",
        "X_train, X_test, y_train, y_test = train_test_split(train,test, test_size=0.2, random_state=2)\n",
        "#summarize first 5 rows\n",
        "print(X_train[:5, :])\n"
      ],
      "execution_count": null,
      "outputs": []
    },
    {
      "cell_type": "code",
      "metadata": {
        "id": "VnviUed0bXdA"
      },
      "source": [
        "from sklearn.linear_model import LogisticRegression\n",
        "\n",
        "logreg = LogisticRegression()\n",
        "logreg.fit(X_train, y_train)\n",
        "\n",
        "y_pred = logreg.predict(X_test)\n",
        "print('Accuracy of logistic regression classifier on test set: {:.2f}'.format(logreg.score(X_test, y_test)))\n",
        "print(\"Predicted\",y_pred)\n",
        "print(\"Actual\",y_test)\n",
        "\n",
        "\n",
        "#*********************************************Explaination*******************************\n",
        "from sklearn.metrics import accuracy_score\n",
        "y_pred = [0, 2, 1, 3]\n",
        "y_true = [0, 1, 2, 3]\n",
        "accuracy_score(y_true, y_pred)   #2/4"
      ],
      "execution_count": null,
      "outputs": []
    },
    {
      "cell_type": "code",
      "metadata": {
        "id": "WsJ5ER7gmSOL"
      },
      "source": [
        ""
      ],
      "execution_count": null,
      "outputs": []
    },
    {
      "cell_type": "code",
      "metadata": {
        "id": "qjuubElRgacf"
      },
      "source": [
        "from flask import Flask, request, url_for, redirect, render_template\n",
        "import pickle\n",
        "import numpy as np\n",
        "\n",
        "\n",
        "app = Flask(__name__, template_folder=\"template\")\n",
        "\n",
        "\n",
        "\n",
        "loaded_model = pickle.load(open(\"/content/sample_data/model.pkl\", \"rb\"))\n",
        "\n",
        "\n",
        "\n",
        "\n",
        "@app.route(\"/\")\n",
        "def hello_world():\n",
        "     return render_template(\"index.html\")\n",
        "    \n",
        "\n",
        "@app.route(\"/test\")\n",
        "def hello1():\n",
        "     return render_template(\"test.html\") \n",
        " \n",
        " \n",
        "@app.route(\"/predict\", methods=[\"POST\"])\n",
        "def home():\n",
        "   \n",
        "    d2 = float(request.form[\"b\"])\n",
        "    d3 = float(request.form[\"c\"])\n",
        "    d4 = float(request.form[\"d\"])\n",
        "    d5 = float(request.form[\"e\"])\n",
        "    d6 = float(request.form[\"f\"])\n",
        "    d7 = float(request.form[\"g\"])\n",
        "    d8 = float(request.form[\"h\"])\n",
        "    d9 = float(request.form[\"i\"])\n",
        "    d10 = float(request.form[\"j\"])\n",
        "    d11 = float(request.form[\"k\"])\n",
        "    d12 = float(request.form[\"l\"])\n",
        "    d13 = float(request.form[\"m\"])\n",
        "    d14 = float(request.form[\"n\"])\n",
        "    d15 = float(request.form[\"o\"])\n",
        "    d16 = float(request.form[\"p\"])\n",
        "    d17 = float(request.form[\"q\"])\n",
        "    d18 = float(request.form[\"r\"])\n",
        "    d19 = float(request.form[\"s\"])\n",
        "    d20 = float(request.form[\"t\"])\n",
        "    d21 = float(request.form[\"u\"])\n",
        "    d22 = float(request.form[\"v\"])\n",
        "    d23 = float(request.form[\"w\"])\n",
        "    d24 = float(request.form[\"x\"])\n",
        "    d25= float(request.form[\"y\"])\n",
        "    d26 = float(request.form[\"z\"])\n",
        "    d27 = float(request.form[\"za\"])\n",
        "    d28 = float(request.form[\"zb\"])\n",
        "   \n",
        "   \n",
        "\n",
        "    arr = np.array(\n",
        "        [\n",
        "            [\n",
        "                d2,\n",
        "                d3,\n",
        "                d4,\n",
        "                d5,d6,d7,d8,d9,d10,d11,d12,d13,d14,d15,d16,\n",
        "                d17,d18,d19,d20,d21,d22,d23,d24,d25,d26,d27,d28\n",
        "                            ]\n",
        "        ]\n",
        "    )\n",
        "    pred = loaded_model.predict(arr)\n",
        "    print(pred)\n",
        "    return render_template(\"predict.html\", data=pred)\n",
        "\n",
        "\n",
        "    \n",
        "\n",
        "if __name__ == \"__main__\":\n",
        "    app.run(debug = True)"
      ],
      "execution_count": null,
      "outputs": []
    }
  ]
}